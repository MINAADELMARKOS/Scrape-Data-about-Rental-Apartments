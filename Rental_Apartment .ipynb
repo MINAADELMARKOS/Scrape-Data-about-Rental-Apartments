{
  "cells": [
    {
      "attachments": {},
      "cell_type": "markdown",
      "metadata": {
        "id": "bp9OlYpjdCwS"
      },
      "source": [
        "# <font color='green'>**Scraping from Rental Apartment**</font>\n",
        "----------\n",
        "\n",
        "## **Renting a house or an apartment?**\n",
        "\n",
        "Finding a rental home or apartment can be difficult.\n",
        "\n",
        "Along with food and gas prices, rental rates have recovered significantly from their epidemic lows and are now one of the main victims of inflation for American households. Low housing inventories are just one of the many elements that have contributed to rent increases. Less availability raises property prices, which encourages more would-be purchasers to choose renting instead, which in turn raises rental prices.\n",
        "\n",
        "Use New York City as an illustration. The housing market there has experienced a sharp surge, according to data from StreetEasy. As of February, Manhattan rates have increased 36% year over year, while rent increases in Brooklyn and Queens' outer boroughs have exceeded 15%. However, rising rent is not exclusive to certain areas.\n",
        "\n",
        "\n",
        "\n",
        "<center>\n",
        "<img align=\"center\" src=\"photo.jpg\"     style=\" width:700px; padding: 40px; \" > \n",
        "<center>\n"
      ]
    },
    {
      "cell_type": "code",
      "execution_count": null,
      "metadata": {
        "id": "qcF-V7YsdT36"
      },
      "outputs": [],
      "source": [
        "import csv \n",
        "import bs4\n",
        "from bs4 import BeautifulSoup\n",
        "from itertools import zip_longest\n",
        "import requests\n",
        "import pandas as pd\n",
        "import re\n",
        "import numpy as np\n",
        "import matplotlib.pyplot as plt\n",
        "%matplotlib inline\n",
        "import matplotlib as plt\n",
        "from matplotlib import pyplot\n",
        "import seaborn as sns\n",
        "%matplotlib inline \n"
      ]
    },
    {
      "cell_type": "code",
      "execution_count": null,
      "metadata": {
        "colab": {
          "base_uri": "https://localhost:8080/"
        },
        "id": "lfhGBQdNdhKL",
        "outputId": "a4adf02b-05f1-4bf4-d864-3eaaae2e140f"
      },
      "outputs": [],
      "source": [
        "start=1\n",
        "\n",
        "names=[]\n",
        "describes=[]\n",
        "prices=[]\n",
        "areas=[]\n",
        "rooms=[]\n",
        "statues=[]\n",
        "data=[]\n",
        "\n",
        "while True:\n",
        "\n",
        "  data  = requests.get(f\"https://www.pararius.com/apartments/amsterdam/page-{start}\")\n",
        "  soup=BeautifulSoup(data.text,\"html.parser\")\n",
        "  total=soup.find(\"div\",{\"class\":\"page__wrapper page__wrapper--content\"}).find_all(\"li\",{\"class\":\"search-list__item search-list__item--listing\"})\n",
        "    \n",
        "\n",
        "  for i in total:\n",
        "    name=i.find(\"h2\",{\"class\":\"listing-search-item__title\"}).text.strip()\n",
        "    desc=i.find(\"div\",{\"class\":\"listing-search-item__sub-title\"}).text.strip()\n",
        "    price=i.find(\"div\",{\"class\":\"listing-search-item__price\"}).text.strip()\n",
        "    area=i.find(\"li\",{\"class\":\"illustrated-features__item illustrated-features__item--surface-area\"}).text.strip()\n",
        "    room=i.find(\"li\",{\"class\":\"illustrated-features__item illustrated-features__item--number-of-rooms\"}).text.strip()\n",
        "    statue=i.find(\"li\",{\"class\":\"illustrated-features__item illustrated-features__item--interior\"})\n",
        "\n",
        "\n",
        "\n",
        "    names.append(name)\n",
        "    describes.append(desc)\n",
        "    prices.append(price)\n",
        "    areas.append(area)\n",
        "    rooms.append(room)\n",
        "    statues.append(statue)\n",
        "\n",
        "    # data.append([name,desc,price,area,room,statue])\n",
        "\n",
        "\n",
        "  info_page=soup.find(\"div\",{\"class\":\"pagination__summary\"}).text\n",
        "  final_padge=info_page.split(\"-\")[1].split(\" \")[3].strip()\n",
        "  current_padge=info_page.split(\"-\")[1].split(\" \")[1].strip()\n",
        "  final_padge=int(final_padge)\n",
        "  current_padge=int(current_padge)\n",
        "\n",
        "  print(current_padge)\n",
        "  start=start+1\n",
        "  if final_padge == current_padge:\n",
        "    \n",
        "    break\n",
        "\n"
      ]
    },
    {
      "cell_type": "code",
      "execution_count": null,
      "metadata": {
        "id": "0KHL6qguiHHG"
      },
      "outputs": [],
      "source": [
        "df1 = pd.DataFrame(np.random.randn(525, 6), columns=[\"Name\",\"Describ\",\"Price\",\"Area\",\"N.of.Room\",\"Statue\"], index=pd.date_range('1/1/2011', periods=525, freq='D'))\n",
        "\n",
        "barber_data_full = pd.DataFrame(\n",
        "    {'Name': names,\n",
        "     'Describ': describes,\n",
        "     'Price': prices,\n",
        "     'Area':areas,\n",
        "     'N.of.Room':rooms,\n",
        "     'Statue':statues\n",
        "    })  "
      ]
    },
    {
      "cell_type": "code",
      "execution_count": null,
      "metadata": {
        "colab": {
          "base_uri": "https://localhost:8080/",
          "height": 833
        },
        "id": "HvB0bNLhibrf",
        "outputId": "ff26bd90-bcf8-4d07-9a33-e1879ece996b"
      },
      "outputs": [],
      "source": [
        "barber_data_full.head(25)"
      ]
    },
    {
      "cell_type": "code",
      "execution_count": null,
      "metadata": {
        "id": "_r-H1QRRehnY"
      },
      "outputs": [],
      "source": [
        "with open(\"Apartments.csv\",\"w\") as fid:\n",
        "  wr=csv.writer(fid)\n",
        "  wr.writerow([\"Name\",\"Describe\",\"Price\",\"Area\",\"Room\",\"Statues\"])\n",
        "  wr.writerows(data)"
      ]
    },
    {
      "attachments": {},
      "cell_type": "markdown",
      "metadata": {},
      "source": [
        "# **Thank You**"
      ]
    }
  ],
  "metadata": {
    "colab": {
      "collapsed_sections": [],
      "provenance": []
    },
    "kernelspec": {
      "display_name": "Python 3.10.2 64-bit",
      "language": "python",
      "name": "python3"
    },
    "language_info": {
      "codemirror_mode": {
        "name": "ipython",
        "version": 3
      },
      "file_extension": ".py",
      "mimetype": "text/x-python",
      "name": "python",
      "nbconvert_exporter": "python",
      "pygments_lexer": "ipython3",
      "version": "3.10.2 (tags/v3.10.2:a58ebcc, Jan 17 2022, 14:12:15) [MSC v.1929 64 bit (AMD64)]"
    },
    "vscode": {
      "interpreter": {
        "hash": "f9065522c5e63990a2bf11f30131faddea3a926c56ec45e0063eb1269689bc0d"
      }
    }
  },
  "nbformat": 4,
  "nbformat_minor": 0
}
